{
 "cells": [
  {
   "cell_type": "markdown",
   "metadata": {},
   "source": [
    "# Text Classification"
   ]
  },
  {
   "cell_type": "markdown",
   "metadata": {},
   "source": [
    "From [here](https://www.tensorflow.org/tutorials/keras/basic_text_classification)"
   ]
  },
  {
   "cell_type": "code",
   "execution_count": 3,
   "metadata": {},
   "outputs": [
    {
     "name": "stdout",
     "output_type": "stream",
     "text": [
      "1.10.0\n"
     ]
    }
   ],
   "source": [
    "import tensorflow as tf\n",
    "from tensorflow import keras\n",
    "\n",
    "import numpy as np\n",
    "\n",
    "print(tf.__version__)"
   ]
  },
  {
   "cell_type": "markdown",
   "metadata": {},
   "source": [
    "## Download the IMDB dataset"
   ]
  },
  {
   "cell_type": "code",
   "execution_count": 5,
   "metadata": {},
   "outputs": [],
   "source": [
    "imdb = keras.datasets.imdb\n",
    "(train_data, train_labels), (test_data, test_labels) = imdb.load_data(num_words=10000)"
   ]
  },
  {
   "cell_type": "markdown",
   "metadata": {},
   "source": [
    "## Explore the data"
   ]
  },
  {
   "cell_type": "code",
   "execution_count": 9,
   "metadata": {},
   "outputs": [
    {
     "name": "stdout",
     "output_type": "stream",
     "text": [
      "Training entries: 25000, labels: 25000\n",
      "218, 189\n"
     ]
    }
   ],
   "source": [
    "print(\"Training entries: {}, labels: {}\".format(len(train_data), len(train_labels)))\n",
    "print(\"{0}, {1}\".format(len(train_data[0]), len(train_data[1])))"
   ]
  },
  {
   "cell_type": "markdown",
   "metadata": {},
   "source": [
    "## Convert integers to words"
   ]
  },
  {
   "cell_type": "code",
   "execution_count": 11,
   "metadata": {},
   "outputs": [],
   "source": [
    "# A dictionary mapping words to an integer index\n",
    "word_index = imdb.get_word_index()\n",
    "\n",
    "# The first indices are reserved\n",
    "word_index = {k:(v+3) for k,v in word_index.items()} \n",
    "word_index[\"<PAD>\"] = 0\n",
    "word_index[\"<START>\"] = 1\n",
    "word_index[\"<UNK>\"] = 2  # unknown\n",
    "word_index[\"<UNUSED>\"] = 3\n",
    "\n",
    "reverse_word_index = dict([(value, key) for (key, value) in word_index.items()])\n",
    "\n",
    "def decode_review(text):\n",
    "    return ' '.join([reverse_word_index.get(i, '?') for i in text])"
   ]
  },
  {
   "cell_type": "code",
   "execution_count": 12,
   "metadata": {},
   "outputs": [
    {
     "data": {
      "text/plain": [
       "\"<START> this film was just brilliant casting location scenery story direction everyone's really suited the part they played and you could just imagine being there robert <UNK> is an amazing actor and now the same being director <UNK> father came from the same scottish island as myself so i loved the fact there was a real connection with this film the witty remarks throughout the film were great it was just brilliant so much that i bought the film as soon as it was released for <UNK> and would recommend it to everyone to watch and the fly fishing was amazing really cried at the end it was so sad and you know what they say if you cry at a film it must have been good and this definitely was also <UNK> to the two little boy's that played the <UNK> of norman and paul they were just brilliant children are often left out of the <UNK> list i think because the stars that play them all grown up are such a big profile for the whole film but these children are amazing and should be praised for what they have done don't you think the whole story was so lovely because it was true and was someone's life after all that was shared with us all\""
      ]
     },
     "execution_count": 12,
     "metadata": {},
     "output_type": "execute_result"
    }
   ],
   "source": [
    "decode_review(train_data[0])"
   ]
  },
  {
   "cell_type": "markdown",
   "metadata": {},
   "source": [
    "## Prepare the data"
   ]
  },
  {
   "cell_type": "code",
   "execution_count": 13,
   "metadata": {},
   "outputs": [],
   "source": [
    "# We need to pad all the arrays so they have the same length\n",
    "train_data = keras.preprocessing.sequence.pad_sequences(train_data,\n",
    "                                                        value=word_index[\"<PAD>\"],\n",
    "                                                        padding='post',\n",
    "                                                        maxlen=256)\n",
    "\n",
    "test_data = keras.preprocessing.sequence.pad_sequences(test_data,\n",
    "                                                       value=word_index[\"<PAD>\"],\n",
    "                                                       padding='post',\n",
    "                                                       maxlen=256)"
   ]
  },
  {
   "cell_type": "code",
   "execution_count": 14,
   "metadata": {},
   "outputs": [
    {
     "data": {
      "text/plain": [
       "(256, 256)"
      ]
     },
     "execution_count": 14,
     "metadata": {},
     "output_type": "execute_result"
    }
   ],
   "source": [
    "len(train_data[0]), len(train_data[1])"
   ]
  },
  {
   "cell_type": "markdown",
   "metadata": {},
   "source": [
    "## Build the model"
   ]
  },
  {
   "cell_type": "code",
   "execution_count": 16,
   "metadata": {},
   "outputs": [
    {
     "name": "stdout",
     "output_type": "stream",
     "text": [
      "_________________________________________________________________\n",
      "Layer (type)                 Output Shape              Param #   \n",
      "=================================================================\n",
      "embedding_1 (Embedding)      (None, None, 16)          160000    \n",
      "_________________________________________________________________\n",
      "global_average_pooling1d_1 ( (None, 16)                0         \n",
      "_________________________________________________________________\n",
      "dense_2 (Dense)              (None, 16)                272       \n",
      "_________________________________________________________________\n",
      "dense_3 (Dense)              (None, 1)                 17        \n",
      "=================================================================\n",
      "Total params: 160,289\n",
      "Trainable params: 160,289\n",
      "Non-trainable params: 0\n",
      "_________________________________________________________________\n"
     ]
    }
   ],
   "source": [
    "# input shape is the vocab count used for the movie reviews\n",
    "vocab_size = 10000\n",
    "\n",
    "model = keras.Sequential()\n",
    "'''This layer takes integer-encoded vocab and looks up embedding\n",
    "vector for each word-index. These vectors are learned as model is\n",
    "trained. The vector adds a dimension to output array. Resulting\n",
    "dimensions are (batch, sequence, embedding)'''\n",
    "model.add(keras.layers.Embedding(vocab_size, 16))\n",
    "'''This layer returns a fixed-length output vector for each vector\n",
    "by averaging over sequence dimension. This allows model to take input\n",
    "of variable length'''\n",
    "model.add(keras.layers.GlobalAveragePooling1D())\n",
    "'''Fully connected layer with 16 hidden units'''\n",
    "model.add(keras.layers.Dense(16, activation=tf.nn.relu))\n",
    "'''value is float between 0 and 1 representing confidence'''\n",
    "model.add(keras.layers.Dense(1, activation=tf.nn.sigmoid))\n",
    "\n",
    "model.summary()"
   ]
  },
  {
   "cell_type": "markdown",
   "metadata": {},
   "source": [
    "## Loss function and optimizer"
   ]
  },
  {
   "cell_type": "code",
   "execution_count": 25,
   "metadata": {},
   "outputs": [],
   "source": [
    "model.compile(optimizer=tf.train.AdamOptimizer(),\n",
    "             loss='binary_crossentropy',\n",
    "             metrics=['accuracy'])"
   ]
  },
  {
   "cell_type": "markdown",
   "metadata": {},
   "source": [
    "## Create a validation set"
   ]
  },
  {
   "cell_type": "code",
   "execution_count": 26,
   "metadata": {},
   "outputs": [],
   "source": [
    "'''Create a validation set by setting apart 10,000 examples'''\n",
    "x_val = train_data[:10000]\n",
    "partial_x_train = train_data[10000:]\n",
    "\n",
    "y_val = train_labels[:10000]\n",
    "partial_y_train = train_labels[10000:]"
   ]
  },
  {
   "cell_type": "markdown",
   "metadata": {},
   "source": [
    "## Train the model"
   ]
  },
  {
   "cell_type": "code",
   "execution_count": 27,
   "metadata": {},
   "outputs": [
    {
     "name": "stdout",
     "output_type": "stream",
     "text": [
      "Train on 15000 samples, validate on 10000 samples\n",
      "Epoch 1/40\n",
      "15000/15000 [==============================] - 1s 90us/step - loss: 0.6984 - acc: 0.4965 - val_loss: 0.6919 - val_acc: 0.5083\n",
      "Epoch 2/40\n",
      "15000/15000 [==============================] - 1s 44us/step - loss: 0.6912 - acc: 0.5323 - val_loss: 0.6902 - val_acc: 0.5347\n",
      "Epoch 3/40\n",
      "15000/15000 [==============================] - 1s 45us/step - loss: 0.6891 - acc: 0.5430 - val_loss: 0.6884 - val_acc: 0.5455\n",
      "Epoch 4/40\n",
      "15000/15000 [==============================] - 1s 45us/step - loss: 0.6870 - acc: 0.5612 - val_loss: 0.6861 - val_acc: 0.5686\n",
      "Epoch 5/40\n",
      "15000/15000 [==============================] - 1s 45us/step - loss: 0.6838 - acc: 0.5873 - val_loss: 0.6827 - val_acc: 0.6007\n",
      "Epoch 6/40\n",
      "15000/15000 [==============================] - 1s 45us/step - loss: 0.6797 - acc: 0.6275 - val_loss: 0.6782 - val_acc: 0.6501\n",
      "Epoch 7/40\n",
      "15000/15000 [==============================] - 1s 45us/step - loss: 0.6720 - acc: 0.6734 - val_loss: 0.6682 - val_acc: 0.7148\n",
      "Epoch 8/40\n",
      "15000/15000 [==============================] - 1s 46us/step - loss: 0.6609 - acc: 0.7459 - val_loss: 0.6583 - val_acc: 0.7491\n",
      "Epoch 9/40\n",
      "15000/15000 [==============================] - 1s 45us/step - loss: 0.6485 - acc: 0.7719 - val_loss: 0.6453 - val_acc: 0.7631\n",
      "Epoch 10/40\n",
      "15000/15000 [==============================] - 1s 45us/step - loss: 0.6330 - acc: 0.7883 - val_loss: 0.6295 - val_acc: 0.7701\n",
      "Epoch 11/40\n",
      "15000/15000 [==============================] - 1s 45us/step - loss: 0.6148 - acc: 0.7793 - val_loss: 0.6119 - val_acc: 0.7761\n",
      "Epoch 12/40\n",
      "15000/15000 [==============================] - 1s 45us/step - loss: 0.5932 - acc: 0.7968 - val_loss: 0.5906 - val_acc: 0.7842\n",
      "Epoch 13/40\n",
      "15000/15000 [==============================] - 1s 45us/step - loss: 0.5689 - acc: 0.8071 - val_loss: 0.5689 - val_acc: 0.7927\n",
      "Epoch 14/40\n",
      "15000/15000 [==============================] - 1s 45us/step - loss: 0.5436 - acc: 0.8135 - val_loss: 0.5448 - val_acc: 0.8011\n",
      "Epoch 15/40\n",
      "15000/15000 [==============================] - 1s 45us/step - loss: 0.5171 - acc: 0.8233 - val_loss: 0.5204 - val_acc: 0.8078\n",
      "Epoch 16/40\n",
      "15000/15000 [==============================] - 1s 45us/step - loss: 0.4912 - acc: 0.8321 - val_loss: 0.4975 - val_acc: 0.8165\n",
      "Epoch 17/40\n",
      "15000/15000 [==============================] - 1s 46us/step - loss: 0.4650 - acc: 0.8426 - val_loss: 0.4753 - val_acc: 0.8273\n",
      "Epoch 18/40\n",
      "15000/15000 [==============================] - 1s 45us/step - loss: 0.4407 - acc: 0.8523 - val_loss: 0.4541 - val_acc: 0.8344\n",
      "Epoch 19/40\n",
      "15000/15000 [==============================] - 1s 45us/step - loss: 0.4179 - acc: 0.8581 - val_loss: 0.4349 - val_acc: 0.8402\n",
      "Epoch 20/40\n",
      "15000/15000 [==============================] - 1s 45us/step - loss: 0.3971 - acc: 0.8651 - val_loss: 0.4177 - val_acc: 0.8446\n",
      "Epoch 21/40\n",
      "15000/15000 [==============================] - 1s 45us/step - loss: 0.3776 - acc: 0.8727 - val_loss: 0.4011 - val_acc: 0.8502\n",
      "Epoch 22/40\n",
      "15000/15000 [==============================] - 1s 46us/step - loss: 0.3585 - acc: 0.8786 - val_loss: 0.3860 - val_acc: 0.8542\n",
      "Epoch 23/40\n",
      "15000/15000 [==============================] - 1s 45us/step - loss: 0.3415 - acc: 0.8838 - val_loss: 0.3732 - val_acc: 0.8569\n",
      "Epoch 24/40\n",
      "15000/15000 [==============================] - 1s 45us/step - loss: 0.3260 - acc: 0.8879 - val_loss: 0.3619 - val_acc: 0.8623\n",
      "Epoch 25/40\n",
      "15000/15000 [==============================] - 1s 45us/step - loss: 0.3126 - acc: 0.8921 - val_loss: 0.3522 - val_acc: 0.8638\n",
      "Epoch 26/40\n",
      "15000/15000 [==============================] - 1s 45us/step - loss: 0.3003 - acc: 0.8950 - val_loss: 0.3441 - val_acc: 0.8671\n",
      "Epoch 27/40\n",
      "15000/15000 [==============================] - 1s 45us/step - loss: 0.2897 - acc: 0.8986 - val_loss: 0.3370 - val_acc: 0.8686\n",
      "Epoch 28/40\n",
      "15000/15000 [==============================] - 1s 45us/step - loss: 0.2793 - acc: 0.9023 - val_loss: 0.3303 - val_acc: 0.8707\n",
      "Epoch 29/40\n",
      "15000/15000 [==============================] - 1s 46us/step - loss: 0.2704 - acc: 0.9037 - val_loss: 0.3253 - val_acc: 0.8713\n",
      "Epoch 30/40\n",
      "15000/15000 [==============================] - 1s 45us/step - loss: 0.2628 - acc: 0.9065 - val_loss: 0.3202 - val_acc: 0.8749\n",
      "Epoch 31/40\n",
      "15000/15000 [==============================] - 1s 46us/step - loss: 0.2542 - acc: 0.9103 - val_loss: 0.3162 - val_acc: 0.8747\n",
      "Epoch 32/40\n",
      "15000/15000 [==============================] - 1s 46us/step - loss: 0.2477 - acc: 0.9116 - val_loss: 0.3125 - val_acc: 0.8772\n",
      "Epoch 33/40\n",
      "15000/15000 [==============================] - 1s 45us/step - loss: 0.2401 - acc: 0.9159 - val_loss: 0.3092 - val_acc: 0.8780\n",
      "Epoch 34/40\n",
      "15000/15000 [==============================] - 1s 45us/step - loss: 0.2338 - acc: 0.9169 - val_loss: 0.3064 - val_acc: 0.8789\n",
      "Epoch 35/40\n",
      "15000/15000 [==============================] - 1s 45us/step - loss: 0.2282 - acc: 0.9191 - val_loss: 0.3034 - val_acc: 0.8798\n",
      "Epoch 36/40\n",
      "15000/15000 [==============================] - 1s 46us/step - loss: 0.2219 - acc: 0.9213 - val_loss: 0.3013 - val_acc: 0.8804\n",
      "Epoch 37/40\n",
      "15000/15000 [==============================] - 1s 45us/step - loss: 0.2165 - acc: 0.9237 - val_loss: 0.2994 - val_acc: 0.8808\n",
      "Epoch 38/40\n",
      "15000/15000 [==============================] - 1s 46us/step - loss: 0.2113 - acc: 0.9247 - val_loss: 0.2972 - val_acc: 0.8821\n",
      "Epoch 39/40\n",
      "15000/15000 [==============================] - 1s 49us/step - loss: 0.2059 - acc: 0.9274 - val_loss: 0.2954 - val_acc: 0.8826\n",
      "Epoch 40/40\n",
      "15000/15000 [==============================] - 1s 46us/step - loss: 0.2011 - acc: 0.9289 - val_loss: 0.2938 - val_acc: 0.8829\n"
     ]
    }
   ],
   "source": [
    "history = model.fit(partial_x_train,\n",
    "                    partial_y_train,\n",
    "                    batch_size=512,\n",
    "                    epochs=40,\n",
    "                    verbose=1,\n",
    "                    validation_data=(x_val, y_val))"
   ]
  },
  {
   "cell_type": "markdown",
   "metadata": {},
   "source": [
    "## Evaluate the model"
   ]
  },
  {
   "cell_type": "code",
   "execution_count": 30,
   "metadata": {},
   "outputs": [
    {
     "name": "stdout",
     "output_type": "stream",
     "text": [
      "25000/25000 [==============================] - 1s 22us/step\n",
      "[0.30705561749458316, 0.87428]\n"
     ]
    }
   ],
   "source": [
    "results = model.evaluate(test_data, test_labels)\n",
    "print(results)"
   ]
  },
  {
   "cell_type": "markdown",
   "metadata": {},
   "source": [
    "## Create a graph"
   ]
  },
  {
   "cell_type": "code",
   "execution_count": 31,
   "metadata": {},
   "outputs": [
    {
     "data": {
      "text/plain": [
       "dict_keys(['val_loss', 'val_acc', 'loss', 'acc'])"
      ]
     },
     "execution_count": 31,
     "metadata": {},
     "output_type": "execute_result"
    }
   ],
   "source": [
    "history_dict = history.history\n",
    "history_dict.keys()"
   ]
  },
  {
   "cell_type": "code",
   "execution_count": 34,
   "metadata": {},
   "outputs": [
    {
     "data": {
      "image/png": "[encoded data removed]",
      "text/plain": [
       "<Figure size 432x288 with 1 Axes>"
      ]
     },
     "metadata": {},
     "output_type": "display_data"
    }
   ],
   "source": [
    "import matplotlib.pyplot as plt\n",
    "\n",
    "acc = history.history['acc']\n",
    "val_acc = history.history['val_acc']\n",
    "loss = history.history['loss']\n",
    "val_loss = history.history['val_loss']\n",
    "\n",
    "epochs = range(1, len(acc) + 1)\n",
    "\n",
    "plt.plot(epochs, loss, 'bo', label='Training loss')\n",
    "plt.plot(epochs, val_loss, 'b', label='Validation loss')\n",
    "plt.title('Training and validation loss')\n",
    "plt.xlabel('Epochs')\n",
    "plt.ylabel('Loss')\n",
    "plt.legend()\n",
    "\n",
    "plt.show()"
   ]
  },
  {
   "cell_type": "code",
   "execution_count": 33,
   "metadata": {},
   "outputs": [
    {
     "data": {
      "image/png": "[encoded data removed]",
      "text/plain": [
       "<Figure size 432x288 with 1 Axes>"
      ]
     },
     "metadata": {},
     "output_type": "display_data"
    }
   ],
   "source": [
    "plt.clf()   # clear figure\n",
    "acc_values = history_dict['acc']\n",
    "val_acc_values = history_dict['val_acc']\n",
    "\n",
    "plt.plot(epochs, acc, 'bo', label='Training acc')\n",
    "plt.plot(epochs, val_acc, 'b', label='Validation acc')\n",
    "plt.title('Training and validation accuracy')\n",
    "plt.xlabel('Epochs')\n",
    "plt.ylabel('Accuracy')\n",
    "plt.legend()\n",
    "\n",
    "plt.show()"
   ]
  },
  {
   "cell_type": "markdown",
   "metadata": {},
   "source": [
    "## License"
   ]
  },
  {
   "cell_type": "code",
   "execution_count": 35,
   "metadata": {},
   "outputs": [],
   "source": [
    "#@title MIT License\n",
    "#\n",
    "# Copyright (c) 2017 François Chollet\n",
    "#\n",
    "# Permission is hereby granted, free of charge, to any person obtaining a\n",
    "# copy of this software and associated documentation files (the \"Software\"),\n",
    "# to deal in the Software without restriction, including without limitation\n",
    "# the rights to use, copy, modify, merge, publish, distribute, sublicense,\n",
    "# and/or sell copies of the Software, and to permit persons to whom the\n",
    "# Software is furnished to do so, subject to the following conditions:\n",
    "#\n",
    "# The above copyright notice and this permission notice shall be included in\n",
    "# all copies or substantial portions of the Software.\n",
    "#\n",
    "# THE SOFTWARE IS PROVIDED \"AS IS\", WITHOUT WARRANTY OF ANY KIND, EXPRESS OR\n",
    "# IMPLIED, INCLUDING BUT NOT LIMITED TO THE WARRANTIES OF MERCHANTABILITY,\n",
    "# FITNESS FOR A PARTICULAR PURPOSE AND NONINFRINGEMENT. IN NO EVENT SHALL\n",
    "# THE AUTHORS OR COPYRIGHT HOLDERS BE LIABLE FOR ANY CLAIM, DAMAGES OR OTHER\n",
    "# LIABILITY, WHETHER IN AN ACTION OF CONTRACT, TORT OR OTHERWISE, ARISING\n",
    "# FROM, OUT OF OR IN CONNECTION WITH THE SOFTWARE OR THE USE OR OTHER\n",
    "# DEALINGS IN THE SOFTWARE."
   ]
  },
  {
   "cell_type": "code",
   "execution_count": null,
   "metadata": {},
   "outputs": [],
   "source": []
  }
 ],
 "metadata": {
  "kernelspec": {
   "display_name": "Environment (conda_tensorflow_p36)",
   "language": "python",
   "name": "conda_tensorflow_p36"
  },
  "language_info": {
   "codemirror_mode": {
    "name": "ipython",
    "version": 3
   },
   "file_extension": ".py",
   "mimetype": "text/x-python",
   "name": "python",
   "nbconvert_exporter": "python",
   "pygments_lexer": "ipython3",
   "version": "3.6.6"
  }
 },
 "nbformat": 4,
 "nbformat_minor": 2
}
